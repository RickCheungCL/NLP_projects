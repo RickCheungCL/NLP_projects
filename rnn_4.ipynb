{
 "cells": [
  {
   "cell_type": "markdown",
   "metadata": {},
   "source": [
    "## Loading Library"
   ]
  },
  {
   "cell_type": "code",
   "execution_count": 1,
   "metadata": {},
   "outputs": [],
   "source": [
    "import tensorflow as tf \n",
    "from tensorflow import keras \n",
    "from tensorflow.keras.preprocessing.text import Tokenizer \n",
    "from tensorflow.keras.preprocessing.sequence import pad_sequences\n",
    "from tensorflow.keras import Sequential \n",
    "from tensorflow.keras.metrics import Precision, Recall\n",
    "from tensorflow.keras.layers import Dense , Embedding , Bidirectional , LSTM , Dropout\n",
    "from tensorflow.keras.optimizers import Adam"
   ]
  },
  {
   "cell_type": "code",
   "execution_count": 2,
   "metadata": {},
   "outputs": [],
   "source": [
    "from sklearn.feature_extraction.text import TfidfVectorizer\n",
    "from sklearn.model_selection import train_test_split \n",
    "from sklearn.preprocessing import LabelEncoder \n",
    "from sklearn.metrics import precision_score, recall_score , f1_score, accuracy_score,confusion_matrix \n",
    "from sklearn.metrics import roc_curve, auc\n",
    "from sklearn.metrics import roc_auc_score\n",
    "from sklearn.preprocessing import LabelBinarizer"
   ]
  },
  {
   "cell_type": "code",
   "execution_count": 3,
   "metadata": {},
   "outputs": [
    {
     "name": "stderr",
     "output_type": "stream",
     "text": [
      "c:\\Users\\chunl\\AppData\\Local\\Programs\\Python\\Python310\\lib\\site-packages\\tqdm\\auto.py:21: TqdmWarning: IProgress not found. Please update jupyter and ipywidgets. See https://ipywidgets.readthedocs.io/en/stable/user_install.html\n",
      "  from .autonotebook import tqdm as notebook_tqdm\n"
     ]
    }
   ],
   "source": [
    "import pandas as pd \n",
    "import numpy as np \n",
    "import matplotlib.pyplot as plt \n",
    "import seaborn as sns  \n",
    "import plotly.express as px\n",
    "from tqdm.auto import tqdm  "
   ]
  },
  {
   "cell_type": "code",
   "execution_count": 4,
   "metadata": {},
   "outputs": [],
   "source": [
    "import nltk\n",
    "import re\n",
    "from nltk.corpus import stopwords \n",
    "from nltk.stem import WordNetLemmatizer \n",
    "from collections import Counter \n",
    "from string import punctuation "
   ]
  },
  {
   "cell_type": "code",
   "execution_count": 5,
   "metadata": {},
   "outputs": [],
   "source": [
    "from gensim.models import Word2Vec"
   ]
  },
  {
   "cell_type": "markdown",
   "metadata": {},
   "source": [
    "## Load Dataset"
   ]
  },
  {
   "cell_type": "code",
   "execution_count": 6,
   "metadata": {},
   "outputs": [],
   "source": [
    "df = pd.read_csv('clean_df.csv')"
   ]
  },
  {
   "cell_type": "code",
   "execution_count": 7,
   "metadata": {},
   "outputs": [
    {
     "data": {
      "text/html": [
       "<div>\n",
       "<style scoped>\n",
       "    .dataframe tbody tr th:only-of-type {\n",
       "        vertical-align: middle;\n",
       "    }\n",
       "\n",
       "    .dataframe tbody tr th {\n",
       "        vertical-align: top;\n",
       "    }\n",
       "\n",
       "    .dataframe thead th {\n",
       "        text-align: right;\n",
       "    }\n",
       "</style>\n",
       "<table border=\"1\" class=\"dataframe\">\n",
       "  <thead>\n",
       "    <tr style=\"text-align: right;\">\n",
       "      <th></th>\n",
       "      <th>Unnamed: 0</th>\n",
       "      <th>Text</th>\n",
       "      <th>Language</th>\n",
       "      <th>Label</th>\n",
       "    </tr>\n",
       "  </thead>\n",
       "  <tbody>\n",
       "    <tr>\n",
       "      <th>0</th>\n",
       "      <td>430988</td>\n",
       "      <td>i wouldnt dream of it  just dont tell me stop</td>\n",
       "      <td>en</td>\n",
       "      <td>positive</td>\n",
       "    </tr>\n",
       "    <tr>\n",
       "      <th>1</th>\n",
       "      <td>492831</td>\n",
       "      <td>question for sec fans     if ohio state pl...</td>\n",
       "      <td>en</td>\n",
       "      <td>positive</td>\n",
       "    </tr>\n",
       "    <tr>\n",
       "      <th>2</th>\n",
       "      <td>76161</td>\n",
       "      <td>would be a dream come true to join</td>\n",
       "      <td>en</td>\n",
       "      <td>positive</td>\n",
       "    </tr>\n",
       "    <tr>\n",
       "      <th>3</th>\n",
       "      <td>744328</td>\n",
       "      <td>you know whats even easier   admitting y...</td>\n",
       "      <td>en</td>\n",
       "      <td>positive</td>\n",
       "    </tr>\n",
       "    <tr>\n",
       "      <th>4</th>\n",
       "      <td>673077</td>\n",
       "      <td>people asking  where is sapnap  dude he s figh...</td>\n",
       "      <td>en</td>\n",
       "      <td>positive</td>\n",
       "    </tr>\n",
       "  </tbody>\n",
       "</table>\n",
       "</div>"
      ],
      "text/plain": [
       "   Unnamed: 0                                               Text Language  \\\n",
       "0      430988    i wouldnt dream of it  just dont tell me stop         en   \n",
       "1      492831      question for sec fans     if ohio state pl...       en   \n",
       "2       76161                 would be a dream come true to join       en   \n",
       "3      744328        you know whats even easier   admitting y...       en   \n",
       "4      673077  people asking  where is sapnap  dude he s figh...       en   \n",
       "\n",
       "      Label  \n",
       "0  positive  \n",
       "1  positive  \n",
       "2  positive  \n",
       "3  positive  \n",
       "4  positive  "
      ]
     },
     "execution_count": 7,
     "metadata": {},
     "output_type": "execute_result"
    }
   ],
   "source": [
    "df.head()"
   ]
  },
  {
   "cell_type": "code",
   "execution_count": 8,
   "metadata": {},
   "outputs": [],
   "source": [
    "df = df.drop('Language' , axis=1)   # The cleaned df already remove language rows that are not en"
   ]
  },
  {
   "cell_type": "code",
   "execution_count": 9,
   "metadata": {},
   "outputs": [
    {
     "data": {
      "text/html": [
       "<div>\n",
       "<style scoped>\n",
       "    .dataframe tbody tr th:only-of-type {\n",
       "        vertical-align: middle;\n",
       "    }\n",
       "\n",
       "    .dataframe tbody tr th {\n",
       "        vertical-align: top;\n",
       "    }\n",
       "\n",
       "    .dataframe thead th {\n",
       "        text-align: right;\n",
       "    }\n",
       "</style>\n",
       "<table border=\"1\" class=\"dataframe\">\n",
       "  <thead>\n",
       "    <tr style=\"text-align: right;\">\n",
       "      <th></th>\n",
       "      <th>Unnamed: 0</th>\n",
       "      <th>Text</th>\n",
       "      <th>Label</th>\n",
       "    </tr>\n",
       "  </thead>\n",
       "  <tbody>\n",
       "    <tr>\n",
       "      <th>0</th>\n",
       "      <td>430988</td>\n",
       "      <td>i wouldnt dream of it  just dont tell me stop</td>\n",
       "      <td>positive</td>\n",
       "    </tr>\n",
       "    <tr>\n",
       "      <th>1</th>\n",
       "      <td>492831</td>\n",
       "      <td>question for sec fans     if ohio state pl...</td>\n",
       "      <td>positive</td>\n",
       "    </tr>\n",
       "    <tr>\n",
       "      <th>2</th>\n",
       "      <td>76161</td>\n",
       "      <td>would be a dream come true to join</td>\n",
       "      <td>positive</td>\n",
       "    </tr>\n",
       "    <tr>\n",
       "      <th>3</th>\n",
       "      <td>744328</td>\n",
       "      <td>you know whats even easier   admitting y...</td>\n",
       "      <td>positive</td>\n",
       "    </tr>\n",
       "    <tr>\n",
       "      <th>4</th>\n",
       "      <td>673077</td>\n",
       "      <td>people asking  where is sapnap  dude he s figh...</td>\n",
       "      <td>positive</td>\n",
       "    </tr>\n",
       "  </tbody>\n",
       "</table>\n",
       "</div>"
      ],
      "text/plain": [
       "   Unnamed: 0                                               Text     Label\n",
       "0      430988    i wouldnt dream of it  just dont tell me stop    positive\n",
       "1      492831      question for sec fans     if ohio state pl...  positive\n",
       "2       76161                 would be a dream come true to join  positive\n",
       "3      744328        you know whats even easier   admitting y...  positive\n",
       "4      673077  people asking  where is sapnap  dude he s figh...  positive"
      ]
     },
     "execution_count": 9,
     "metadata": {},
     "output_type": "execute_result"
    }
   ],
   "source": [
    "df.head()"
   ]
  },
  {
   "cell_type": "code",
   "execution_count": 10,
   "metadata": {},
   "outputs": [],
   "source": [
    "df = df.drop('Unnamed: 0' , axis=1)"
   ]
  },
  {
   "cell_type": "code",
   "execution_count": 11,
   "metadata": {},
   "outputs": [
    {
     "data": {
      "text/html": [
       "<div>\n",
       "<style scoped>\n",
       "    .dataframe tbody tr th:only-of-type {\n",
       "        vertical-align: middle;\n",
       "    }\n",
       "\n",
       "    .dataframe tbody tr th {\n",
       "        vertical-align: top;\n",
       "    }\n",
       "\n",
       "    .dataframe thead th {\n",
       "        text-align: right;\n",
       "    }\n",
       "</style>\n",
       "<table border=\"1\" class=\"dataframe\">\n",
       "  <thead>\n",
       "    <tr style=\"text-align: right;\">\n",
       "      <th></th>\n",
       "      <th>Text</th>\n",
       "      <th>Label</th>\n",
       "    </tr>\n",
       "  </thead>\n",
       "  <tbody>\n",
       "    <tr>\n",
       "      <th>0</th>\n",
       "      <td>i wouldnt dream of it  just dont tell me stop</td>\n",
       "      <td>positive</td>\n",
       "    </tr>\n",
       "    <tr>\n",
       "      <th>1</th>\n",
       "      <td>question for sec fans     if ohio state pl...</td>\n",
       "      <td>positive</td>\n",
       "    </tr>\n",
       "    <tr>\n",
       "      <th>2</th>\n",
       "      <td>would be a dream come true to join</td>\n",
       "      <td>positive</td>\n",
       "    </tr>\n",
       "    <tr>\n",
       "      <th>3</th>\n",
       "      <td>you know whats even easier   admitting y...</td>\n",
       "      <td>positive</td>\n",
       "    </tr>\n",
       "    <tr>\n",
       "      <th>4</th>\n",
       "      <td>people asking  where is sapnap  dude he s figh...</td>\n",
       "      <td>positive</td>\n",
       "    </tr>\n",
       "    <tr>\n",
       "      <th>...</th>\n",
       "      <td>...</td>\n",
       "      <td>...</td>\n",
       "    </tr>\n",
       "    <tr>\n",
       "      <th>595753</th>\n",
       "      <td>im almost maxed out on skills in p5 and a ton ...</td>\n",
       "      <td>uncertainty</td>\n",
       "    </tr>\n",
       "    <tr>\n",
       "      <th>595754</th>\n",
       "      <td>they called franklin graham a  homophobic hate...</td>\n",
       "      <td>uncertainty</td>\n",
       "    </tr>\n",
       "    <tr>\n",
       "      <th>595755</th>\n",
       "      <td>there might be a tsunami coming to cuba  jamai...</td>\n",
       "      <td>uncertainty</td>\n",
       "    </tr>\n",
       "    <tr>\n",
       "      <th>595756</th>\n",
       "      <td>i mostly draw and such i dont know a thing ab...</td>\n",
       "      <td>uncertainty</td>\n",
       "    </tr>\n",
       "    <tr>\n",
       "      <th>595757</th>\n",
       "      <td>didnt she just get that plush board job some...</td>\n",
       "      <td>uncertainty</td>\n",
       "    </tr>\n",
       "  </tbody>\n",
       "</table>\n",
       "<p>595758 rows × 2 columns</p>\n",
       "</div>"
      ],
      "text/plain": [
       "                                                     Text        Label\n",
       "0         i wouldnt dream of it  just dont tell me stop       positive\n",
       "1           question for sec fans     if ohio state pl...     positive\n",
       "2                      would be a dream come true to join     positive\n",
       "3             you know whats even easier   admitting y...     positive\n",
       "4       people asking  where is sapnap  dude he s figh...     positive\n",
       "...                                                   ...          ...\n",
       "595753  im almost maxed out on skills in p5 and a ton ...  uncertainty\n",
       "595754  they called franklin graham a  homophobic hate...  uncertainty\n",
       "595755  there might be a tsunami coming to cuba  jamai...  uncertainty\n",
       "595756   i mostly draw and such i dont know a thing ab...  uncertainty\n",
       "595757    didnt she just get that plush board job some...  uncertainty\n",
       "\n",
       "[595758 rows x 2 columns]"
      ]
     },
     "execution_count": 11,
     "metadata": {},
     "output_type": "execute_result"
    }
   ],
   "source": [
    "df"
   ]
  },
  {
   "cell_type": "markdown",
   "metadata": {},
   "source": [
    "# We have 3 labels to do the sentiment analysis which are positive, negative and uncertainty"
   ]
  },
  {
   "cell_type": "code",
   "execution_count": 12,
   "metadata": {},
   "outputs": [
    {
     "data": {
      "text/plain": [
       "array(['negative', 'positive', 'uncertainty'], dtype=object)"
      ]
     },
     "execution_count": 12,
     "metadata": {},
     "output_type": "execute_result"
    }
   ],
   "source": [
    "np.unique(df['Label'])"
   ]
  },
  {
   "cell_type": "code",
   "execution_count": 13,
   "metadata": {},
   "outputs": [
    {
     "data": {
      "text/plain": [
       "{'negative': 0, 'positive': 1, 'uncertainty': 2}"
      ]
     },
     "execution_count": 13,
     "metadata": {},
     "output_type": "execute_result"
    }
   ],
   "source": [
    "df_labels = {key : value for value , key in enumerate(np.unique(df['Label']))}\n",
    "df_labels"
   ]
  },
  {
   "cell_type": "code",
   "execution_count": 14,
   "metadata": {},
   "outputs": [],
   "source": [
    "def getlabel(n) : \n",
    "    for x , y in df_labels.items() : \n",
    "        if y==n : \n",
    "            return x"
   ]
  },
  {
   "cell_type": "code",
   "execution_count": 15,
   "metadata": {},
   "outputs": [],
   "source": [
    "labelencoder = LabelEncoder()"
   ]
  },
  {
   "cell_type": "code",
   "execution_count": 16,
   "metadata": {},
   "outputs": [],
   "source": [
    "lemma = WordNetLemmatizer()"
   ]
  },
  {
   "cell_type": "code",
   "execution_count": 17,
   "metadata": {},
   "outputs": [],
   "source": [
    "labels = labelencoder.fit_transform(df['Label'].values)"
   ]
  },
  {
   "cell_type": "markdown",
   "metadata": {},
   "source": [
    "for data inputing into the model, We will do tokenization using nltk and remove punctuation, stop_words and lemmatization although we already clean some data from the text before in the beginning. For now, it is just a demo how the cleaning works"
   ]
  },
  {
   "cell_type": "code",
   "execution_count": 18,
   "metadata": {},
   "outputs": [],
   "source": [
    "def DataPreprocessing(txt) : \n",
    "    # tokenization \n",
    "    tokens = nltk.word_tokenize(txt) \n",
    "    \n",
    "    # remove puncs \n",
    "    puncs = list(punctuation) \n",
    "    words = [word for word in tokens if word not in puncs] \n",
    "    \n",
    "    # remove stopwords \n",
    "    stop_words = set(stopwords.words('english')) \n",
    "    words = [word for word in words if word not in stop_words] \n",
    "    \n",
    "    # Lemmatization \n",
    "    words = [lemma.lemmatize(word) for word in words] \n",
    "    \n",
    "    txt = ' '.join(words) \n",
    "    \n",
    "    return txt"
   ]
  },
  {
   "cell_type": "code",
   "execution_count": 19,
   "metadata": {},
   "outputs": [],
   "source": [
    "df['text_clean'] = df['Text'].apply(DataPreprocessing) # apply the preprocessing data into the df_text"
   ]
  },
  {
   "cell_type": "markdown",
   "metadata": {},
   "source": [
    "## Prepare for W2V"
   ]
  },
  {
   "cell_type": "markdown",
   "metadata": {},
   "source": [
    "We applied word2vec for the embedding matrix but creating a Text to Vector function to apply to the w2v"
   ]
  },
  {
   "cell_type": "code",
   "execution_count": 20,
   "metadata": {},
   "outputs": [],
   "source": [
    "df['total_length'] = [len(text.split()) for text in df.Text]  #Checking the length for each row"
   ]
  },
  {
   "cell_type": "code",
   "execution_count": 21,
   "metadata": {},
   "outputs": [
    {
     "data": {
      "text/html": [
       "<div>\n",
       "<style scoped>\n",
       "    .dataframe tbody tr th:only-of-type {\n",
       "        vertical-align: middle;\n",
       "    }\n",
       "\n",
       "    .dataframe tbody tr th {\n",
       "        vertical-align: top;\n",
       "    }\n",
       "\n",
       "    .dataframe thead th {\n",
       "        text-align: right;\n",
       "    }\n",
       "</style>\n",
       "<table border=\"1\" class=\"dataframe\">\n",
       "  <thead>\n",
       "    <tr style=\"text-align: right;\">\n",
       "      <th></th>\n",
       "      <th>Text</th>\n",
       "      <th>Label</th>\n",
       "      <th>text_clean</th>\n",
       "      <th>total_length</th>\n",
       "    </tr>\n",
       "  </thead>\n",
       "  <tbody>\n",
       "    <tr>\n",
       "      <th>0</th>\n",
       "      <td>i wouldnt dream of it  just dont tell me stop</td>\n",
       "      <td>positive</td>\n",
       "      <td>wouldnt dream dont tell stop</td>\n",
       "      <td>10</td>\n",
       "    </tr>\n",
       "    <tr>\n",
       "      <th>1</th>\n",
       "      <td>question for sec fans     if ohio state pl...</td>\n",
       "      <td>positive</td>\n",
       "      <td>question sec fan ohio state player could hang ...</td>\n",
       "      <td>39</td>\n",
       "    </tr>\n",
       "    <tr>\n",
       "      <th>2</th>\n",
       "      <td>would be a dream come true to join</td>\n",
       "      <td>positive</td>\n",
       "      <td>would dream come true join</td>\n",
       "      <td>8</td>\n",
       "    </tr>\n",
       "    <tr>\n",
       "      <th>3</th>\n",
       "      <td>you know whats even easier   admitting y...</td>\n",
       "      <td>positive</td>\n",
       "      <td>know whats even easier admitting never ever kn...</td>\n",
       "      <td>39</td>\n",
       "    </tr>\n",
       "    <tr>\n",
       "      <th>4</th>\n",
       "      <td>people asking  where is sapnap  dude he s figh...</td>\n",
       "      <td>positive</td>\n",
       "      <td>people asking sapnap dude fighting dream bc dr...</td>\n",
       "      <td>19</td>\n",
       "    </tr>\n",
       "    <tr>\n",
       "      <th>...</th>\n",
       "      <td>...</td>\n",
       "      <td>...</td>\n",
       "      <td>...</td>\n",
       "      <td>...</td>\n",
       "    </tr>\n",
       "    <tr>\n",
       "      <th>595753</th>\n",
       "      <td>im almost maxed out on skills in p5 and a ton ...</td>\n",
       "      <td>uncertainty</td>\n",
       "      <td>im almost maxed skill p5 ton social link waiti...</td>\n",
       "      <td>25</td>\n",
       "    </tr>\n",
       "    <tr>\n",
       "      <th>595754</th>\n",
       "      <td>they called franklin graham a  homophobic hate...</td>\n",
       "      <td>uncertainty</td>\n",
       "      <td>called franklin graham homophobic hate preache...</td>\n",
       "      <td>39</td>\n",
       "    </tr>\n",
       "    <tr>\n",
       "      <th>595755</th>\n",
       "      <td>there might be a tsunami coming to cuba  jamai...</td>\n",
       "      <td>uncertainty</td>\n",
       "      <td>might tsunami coming cuba jamaica amp florida ...</td>\n",
       "      <td>14</td>\n",
       "    </tr>\n",
       "    <tr>\n",
       "      <th>595756</th>\n",
       "      <td>i mostly draw and such i dont know a thing ab...</td>\n",
       "      <td>uncertainty</td>\n",
       "      <td>mostly draw dont know thing graphic design may...</td>\n",
       "      <td>25</td>\n",
       "    </tr>\n",
       "    <tr>\n",
       "      <th>595757</th>\n",
       "      <td>didnt she just get that plush board job some...</td>\n",
       "      <td>uncertainty</td>\n",
       "      <td>didnt get plush board job somewhere maybe fox ...</td>\n",
       "      <td>14</td>\n",
       "    </tr>\n",
       "  </tbody>\n",
       "</table>\n",
       "<p>595758 rows × 4 columns</p>\n",
       "</div>"
      ],
      "text/plain": [
       "                                                     Text        Label  \\\n",
       "0         i wouldnt dream of it  just dont tell me stop       positive   \n",
       "1           question for sec fans     if ohio state pl...     positive   \n",
       "2                      would be a dream come true to join     positive   \n",
       "3             you know whats even easier   admitting y...     positive   \n",
       "4       people asking  where is sapnap  dude he s figh...     positive   \n",
       "...                                                   ...          ...   \n",
       "595753  im almost maxed out on skills in p5 and a ton ...  uncertainty   \n",
       "595754  they called franklin graham a  homophobic hate...  uncertainty   \n",
       "595755  there might be a tsunami coming to cuba  jamai...  uncertainty   \n",
       "595756   i mostly draw and such i dont know a thing ab...  uncertainty   \n",
       "595757    didnt she just get that plush board job some...  uncertainty   \n",
       "\n",
       "                                               text_clean  total_length  \n",
       "0                            wouldnt dream dont tell stop            10  \n",
       "1       question sec fan ohio state player could hang ...            39  \n",
       "2                              would dream come true join             8  \n",
       "3       know whats even easier admitting never ever kn...            39  \n",
       "4       people asking sapnap dude fighting dream bc dr...            19  \n",
       "...                                                   ...           ...  \n",
       "595753  im almost maxed skill p5 ton social link waiti...            25  \n",
       "595754  called franklin graham homophobic hate preache...            39  \n",
       "595755  might tsunami coming cuba jamaica amp florida ...            14  \n",
       "595756  mostly draw dont know thing graphic design may...            25  \n",
       "595757  didnt get plush board job somewhere maybe fox ...            14  \n",
       "\n",
       "[595758 rows x 4 columns]"
      ]
     },
     "execution_count": 21,
     "metadata": {},
     "output_type": "execute_result"
    }
   ],
   "source": [
    "df"
   ]
  },
  {
   "cell_type": "code",
   "execution_count": 22,
   "metadata": {},
   "outputs": [
    {
     "data": {
      "text/plain": [
       "83"
      ]
     },
     "execution_count": 22,
     "metadata": {},
     "output_type": "execute_result"
    }
   ],
   "source": [
    "np.max(df['total_length'])"
   ]
  },
  {
   "cell_type": "markdown",
   "metadata": {},
   "source": []
  },
  {
   "cell_type": "code",
   "execution_count": 23,
   "metadata": {},
   "outputs": [],
   "source": [
    "def Vectorization(texts , MAXLEN = 83) : \n",
    "    text = df[texts].tolist() \n",
    "    \n",
    "    # build vocabulary \n",
    "    corpus = [word for text in df[texts] for word in text.split()] \n",
    "    vocab_size = len(Counter(corpus)) \n",
    "    \n",
    "    tokenizer = Tokenizer(num_words=vocab_size , oov_token = \"<OOV>\" , \n",
    "                          filters='!#$%&()*+,-/:;<=>@«»\"\"[\\\\]^_`{|}~\\t\\n'\n",
    "                         )\n",
    "    \n",
    "    tokenizer.fit_on_texts(text) \n",
    "    \n",
    "    tokenizer.word_index['<pad>'] = 0 \n",
    "    tokenizer.index_word[0] = '<pad>' \n",
    "    \n",
    "    # Text Vectorization \n",
    "    seq = tokenizer.texts_to_sequences(text) \n",
    "    \n",
    "    pad_seqs = pad_sequences(seq , maxlen = MAXLEN , padding = 'post') \n",
    "    \n",
    "    return pad_seqs , tokenizer"
   ]
  },
  {
   "cell_type": "code",
   "execution_count": 24,
   "metadata": {},
   "outputs": [],
   "source": [
    "seqs , tokenizer = Vectorization('Text') # getting the padded sequences and the tokenizer"
   ]
  },
  {
   "cell_type": "code",
   "execution_count": 25,
   "metadata": {},
   "outputs": [
    {
     "name": "stdout",
     "output_type": "stream",
     "text": [
      "Original Sequence 1: [  5 592 151   7  10  33  94 272  38 251   0   0   0   0   0   0   0   0\n",
      "   0   0   0   0   0   0   0   0   0   0   0   0   0   0   0   0   0   0\n",
      "   0   0   0   0   0   0   0   0   0   0   0   0   0   0   0   0   0   0\n",
      "   0   0   0   0   0   0   0   0   0   0   0   0   0   0   0   0   0   0\n",
      "   0   0   0   0   0   0   0   0   0   0   0]\n",
      "Text Representation: i wouldnt dream of it just dont tell me stop\n",
      "\n",
      "Original Sequence 2: [ 123   13 3825  600   30 3239  316  447  128   22 1884   11    2 3825\n",
      "  106   20   26  136   59    6  121  116   52 7157  102   11    2  220\n",
      " 1992  106    8   71 1604    3    2 1297   23  109   91    0    0    0\n",
      "    0    0    0    0    0    0    0    0    0    0    0    0    0    0\n",
      "    0    0    0    0    0    0    0    0    0    0    0    0    0    0\n",
      "    0    0    0    0    0    0    0    0    0    0    0    0    0]\n",
      "Text Representation: question for sec fans if ohio state players could not hang in the sec why are they going there and being way more dominant than in the big ten why is their path to the field so much easier\n",
      "\n"
     ]
    }
   ],
   "source": [
    "num_rows_to_display = 2 # we can now get the vector to form a text data\n",
    "\n",
    "for i in range(min(num_rows_to_display, len(seqs))):\n",
    "    seq_sent = ' '.join([tokenizer.index_word[idx] for idx in seqs[i] if idx != 0])\n",
    "    print(f\"Original Sequence {i + 1}: {seqs[i]}\\nText Representation: {seq_sent}\\n\")"
   ]
  },
  {
   "cell_type": "code",
   "execution_count": 26,
   "metadata": {},
   "outputs": [],
   "source": [
    "vocab_length = len(tokenizer.word_index)   \n",
    "max_length = np.max(df['total_length']) # 83 is the max number of the text length"
   ]
  },
  {
   "cell_type": "code",
   "execution_count": 27,
   "metadata": {},
   "outputs": [],
   "source": [
    "def split_text(text):\n",
    "    return text.split()"
   ]
  },
  {
   "cell_type": "code",
   "execution_count": 28,
   "metadata": {},
   "outputs": [],
   "source": [
    "text_data = df['Text'].tolist() # get the text data from the dataset"
   ]
  },
  {
   "cell_type": "code",
   "execution_count": 29,
   "metadata": {},
   "outputs": [],
   "source": [
    "word2vec_train = list(map(split_text, text_data))    # using the split text for the function to for a list for the training data for the w2v model"
   ]
  },
  {
   "cell_type": "code",
   "execution_count": 30,
   "metadata": {},
   "outputs": [
    {
     "name": "stdout",
     "output_type": "stream",
     "text": [
      "Vocabulary Length: 49477\n"
     ]
    }
   ],
   "source": [
    "word2vec_model = Word2Vec(word2vec_train , vector_size = 128)   \n",
    "# we are picking 128 as it is the power of 2 and also we don't want to have a small value as the data we have the max_length of 83 for 1 row and also the number of row of the dataset are huge. Logically 128 should fit, if it is small, or having bad accuracy, we will change it.\n",
    "print(\"Vocabulary Length:\", len(word2vec_model.wv.key_to_index)) "
   ]
  },
  {
   "cell_type": "code",
   "execution_count": 31,
   "metadata": {},
   "outputs": [
    {
     "name": "stdout",
     "output_type": "stream",
     "text": [
      "(223787, 128)\n"
     ]
    }
   ],
   "source": [
    "embedding_matrix = np.zeros((vocab_length , 128)) # VOCAB_SIZE is the number of unique vocabulary  \n",
    "for word , token in tokenizer.word_index.items() : \n",
    "    if word in word2vec_model.wv :  #Check if the word is present in the Word2Vec model's vocabulary\n",
    "        embedding_matrix[token] = word2vec_model.wv[word]   #assign the pre-trained word vector to the embedding matrix\n",
    "        \n",
    "print(embedding_matrix.shape)"
   ]
  },
  {
   "cell_type": "code",
   "execution_count": 32,
   "metadata": {},
   "outputs": [],
   "source": [
    "seq_labels = tf.keras.utils.to_categorical(labels , len(np.unique(labels))) # one-hot encoding"
   ]
  },
  {
   "cell_type": "code",
   "execution_count": 33,
   "metadata": {},
   "outputs": [
    {
     "name": "stdout",
     "output_type": "stream",
     "text": [
      "before one hot : (595758,)\n",
      "after one hot : (595758, 3)\n"
     ]
    }
   ],
   "source": [
    "print(f'before one hot : {labels.shape}')\n",
    "print(f'after one hot : {seq_labels.shape}') # check if the number of class wrong"
   ]
  },
  {
   "cell_type": "code",
   "execution_count": 34,
   "metadata": {},
   "outputs": [],
   "source": [
    "x_train , x_val , y_train , y_val = train_test_split(seqs , seq_labels , train_size = 0.8, random_state = 42)"
   ]
  },
  {
   "cell_type": "code",
   "execution_count": 35,
   "metadata": {},
   "outputs": [
    {
     "data": {
      "text/plain": [
       "((476606, 83), (119152, 83), (476606, 3), (119152, 3))"
      ]
     },
     "execution_count": 35,
     "metadata": {},
     "output_type": "execute_result"
    }
   ],
   "source": [
    "x_train.shape , x_val.shape , y_train.shape , y_val.shape"
   ]
  },
  {
   "cell_type": "code",
   "execution_count": 36,
   "metadata": {},
   "outputs": [],
   "source": [
    "train_set = tf.data.Dataset.from_tensor_slices((x_train , y_train))  #BUFFER_SIZE controls the number of elements in the buffer used for shuffling\n",
    "train_set = train_set.shuffle(1000).batch(128 , drop_remainder = True)   #random data order might perform better for training model\n",
    "\n",
    "val_set = tf.data.Dataset.from_tensor_slices((x_val , y_val))\n",
    "val_set = val_set.batch(128 , drop_remainder = True)"
   ]
  },
  {
   "cell_type": "code",
   "execution_count": 37,
   "metadata": {},
   "outputs": [
    {
     "name": "stdout",
     "output_type": "stream",
     "text": [
      "3723 batches of 128\n"
     ]
    }
   ],
   "source": [
    "print(f\"{len(train_set)} batches of {128}\")"
   ]
  },
  {
   "cell_type": "code",
   "execution_count": 38,
   "metadata": {},
   "outputs": [
    {
     "name": "stdout",
     "output_type": "stream",
     "text": [
      "930 batches of 128\n"
     ]
    }
   ],
   "source": [
    "print(f\"{len(val_set)} batches of {128}\")"
   ]
  },
  {
   "cell_type": "markdown",
   "metadata": {},
   "source": [
    "# Building Model "
   ]
  },
  {
   "cell_type": "code",
   "execution_count": 40,
   "metadata": {},
   "outputs": [],
   "source": [
    "model = Sequential()"
   ]
  },
  {
   "cell_type": "code",
   "execution_count": 41,
   "metadata": {},
   "outputs": [],
   "source": [
    "model.add(Embedding(\n",
    "    input_dim=vocab_length,\n",
    "    output_dim=128,\n",
    "    weights=[embedding_matrix],\n",
    "    input_length=max_length,\n",
    "    trainable=False\n",
    "))\n",
    "\n",
    "\n",
    "model.add(Bidirectional(LSTM(64)))  # pairing with the output dim\n",
    "model.add(Dense(64, activation='relu'))\n",
    "model.add(Dropout(0.5)) # prevent overfitting\n",
    "model.add(Dense(3, activation='softmax')) # softmax applied because it is a multi-class case\n"
   ]
  },
  {
   "cell_type": "markdown",
   "metadata": {},
   "source": [
    "The rationale behind setting the LSTM layer to 64  is to maintain consistency in the architecture's dimensions. \n",
    "\n",
    "Initially, the final layer was predetermined as Dense(3) to accommodate the three classes.\n",
    "\n",
    "For the second Dense layer, a decision was made to assign it 64.\n",
    "\n",
    "To ensure consistent across layers, this value was derived from the output dimensions of both the Embedding layer and the Bidirectional LSTM layer. This approach aims to align and harmonize the dimensions throughout the entire model."
   ]
  },
  {
   "cell_type": "code",
   "execution_count": 42,
   "metadata": {},
   "outputs": [
    {
     "name": "stdout",
     "output_type": "stream",
     "text": [
      "Model: \"sequential\"\n",
      "_________________________________________________________________\n",
      " Layer (type)                Output Shape              Param #   \n",
      "=================================================================\n",
      " embedding (Embedding)       (None, 83, 128)           28644736  \n",
      "                                                                 \n",
      " bidirectional (Bidirectiona  (None, 128)              98816     \n",
      " l)                                                              \n",
      "                                                                 \n",
      " dense (Dense)               (None, 64)                8256      \n",
      "                                                                 \n",
      " dropout (Dropout)           (None, 64)                0         \n",
      "                                                                 \n",
      " dense_1 (Dense)             (None, 3)                 195       \n",
      "                                                                 \n",
      "=================================================================\n",
      "Total params: 28,752,003\n",
      "Trainable params: 107,267\n",
      "Non-trainable params: 28,644,736\n",
      "_________________________________________________________________\n"
     ]
    }
   ],
   "source": [
    "model.summary()"
   ]
  },
  {
   "cell_type": "code",
   "execution_count": 43,
   "metadata": {},
   "outputs": [],
   "source": [
    "model.compile(optimizer='adam', # Adam is a common optimizer, base on adaptive learning rates, and I use it in my other courses and get a pretty good result as reasons why I am choosing Adam.\n",
    "              loss='categorical_crossentropy', \n",
    "              metrics=['accuracy', 'Precision', 'Recall']) # categorical_crossentropy is suitable since we use one hot as our encoding"
   ]
  },
  {
   "cell_type": "code",
   "execution_count": 44,
   "metadata": {},
   "outputs": [
    {
     "name": "stdout",
     "output_type": "stream",
     "text": [
      "Epoch 1/5\n"
     ]
    },
    {
     "name": "stdout",
     "output_type": "stream",
     "text": [
      "3723/3723 [==============================] - 330s 88ms/step - loss: 0.0921 - accuracy: 0.9623 - precision: 0.9699 - recall: 0.9560 - val_loss: 0.0582 - val_accuracy: 0.9752 - val_precision: 0.9755 - val_recall: 0.9748\n",
      "Epoch 2/5\n",
      "3723/3723 [==============================] - 370s 99ms/step - loss: 0.0606 - accuracy: 0.9750 - precision: 0.9761 - recall: 0.9738 - val_loss: 0.0575 - val_accuracy: 0.9753 - val_precision: 0.9756 - val_recall: 0.9751\n",
      "Epoch 3/5\n",
      "3723/3723 [==============================] - 406s 109ms/step - loss: 0.0585 - accuracy: 0.9755 - precision: 0.9765 - recall: 0.9744 - val_loss: 0.0575 - val_accuracy: 0.9758 - val_precision: 0.9761 - val_recall: 0.9755\n",
      "Epoch 4/5\n",
      "3723/3723 [==============================] - 519s 139ms/step - loss: 0.0570 - accuracy: 0.9760 - precision: 0.9770 - recall: 0.9750 - val_loss: 0.0576 - val_accuracy: 0.9763 - val_precision: 0.9768 - val_recall: 0.9758\n",
      "Epoch 5/5\n",
      "3723/3723 [==============================] - 541s 145ms/step - loss: 0.0557 - accuracy: 0.9767 - precision: 0.9777 - recall: 0.9758 - val_loss: 0.0591 - val_accuracy: 0.9759 - val_precision: 0.9767 - val_recall: 0.9752\n"
     ]
    }
   ],
   "source": [
    "history = model.fit(\n",
    "    train_set , \n",
    "    epochs = 5 , \n",
    "    validation_data = val_set\n",
    ")"
   ]
  },
  {
   "cell_type": "markdown",
   "metadata": {},
   "source": [
    "\n",
    "We conducted training for 5 epochs, completing the process in approximately 30 minutes.\n",
    "\n",
    "The outcomes show commendable training and validation accuracy.\n",
    "\n",
    "We attribute this success to the abundance of data, coupled with the balanced distribution across all classes in the dataset."
   ]
  },
  {
   "cell_type": "code",
   "execution_count": 46,
   "metadata": {},
   "outputs": [],
   "source": [
    "train_loss = history.history['loss'][-1]\n",
    "train_acc = history.history['accuracy'][-1]\n",
    "train_precision = history.history['precision'][-1]\n",
    "train_recall = history.history['recall'][-1]\n",
    "train_f1_score = (2 * train_precision * train_recall) / (train_precision + train_recall)\n",
    "\n",
    "val_loss = history.history['val_loss'][-1]\n",
    "val_acc = history.history['val_accuracy'][-1]\n",
    "val_precision = history.history['val_precision'][-1]\n",
    "val_recall = history.history['val_recall'][-1]\n",
    "val_f1_score = (2 * val_precision * val_recall) / (val_precision + val_recall)"
   ]
  },
  {
   "cell_type": "code",
   "execution_count": 47,
   "metadata": {},
   "outputs": [
    {
     "name": "stdout",
     "output_type": "stream",
     "text": [
      "Training loss: 0.05571407079696655\n",
      "\n",
      "Training accuracy: 0.976722002029419\n",
      "\n",
      "Training precision: 0.9776930809020996\n",
      "\n",
      "Training recall: 0.9758322238922119\n",
      "\n",
      "F1 score: 0.9767617661048711\n",
      "\n"
     ]
    }
   ],
   "source": [
    "print(f\"Training loss: {train_loss}\\n\")\n",
    "print(f\"Training accuracy: {train_acc}\\n\")\n",
    "print(f\"Training precision: {train_precision}\\n\")\n",
    "print(f\"Training recall: {train_recall}\\n\")\n",
    "print(f\"F1 score: {train_f1_score}\\n\")"
   ]
  },
  {
   "cell_type": "code",
   "execution_count": 48,
   "metadata": {},
   "outputs": [
    {
     "name": "stdout",
     "output_type": "stream",
     "text": [
      "Validation loss: 0.05907098203897476\n",
      "\n",
      "Validation accuracy: 0.9758904576301575\n",
      "\n",
      "Validation precision: 0.9767265915870667\n",
      "\n",
      "Validation recall: 0.9751511812210083\n",
      "\n",
      "F1 score: 0.9759382506270805\n",
      "\n"
     ]
    }
   ],
   "source": [
    "print(f\"Validation loss: {val_loss}\\n\")\n",
    "print(f\"Validation accuracy: {val_acc}\\n\")\n",
    "print(f\"Validation precision: {val_precision}\\n\")\n",
    "print(f\"Validation recall: {val_recall}\\n\")\n",
    "print(f\"F1 score: {val_f1_score}\\n\")"
   ]
  },
  {
   "cell_type": "code",
   "execution_count": 50,
   "metadata": {},
   "outputs": [
    {
     "name": "stderr",
     "output_type": "stream",
     "text": [
      "WARNING:absl:Found untraced functions such as lstm_cell_1_layer_call_fn, lstm_cell_1_layer_call_and_return_conditional_losses, lstm_cell_2_layer_call_fn, lstm_cell_2_layer_call_and_return_conditional_losses while saving (showing 4 of 4). These functions will not be directly callable after loading.\n"
     ]
    },
    {
     "name": "stdout",
     "output_type": "stream",
     "text": [
      "INFO:tensorflow:Assets written to: sen_model_blstm.tf\\assets\n"
     ]
    },
    {
     "name": "stderr",
     "output_type": "stream",
     "text": [
      "INFO:tensorflow:Assets written to: sen_model_blstm.tf\\assets\n"
     ]
    }
   ],
   "source": [
    "model.save(\"sen_model_blstm.tf\")"
   ]
  },
  {
   "cell_type": "code",
   "execution_count": 51,
   "metadata": {},
   "outputs": [],
   "source": [
    "model.save(\"sen_model_blstm.h5\")"
   ]
  },
  {
   "cell_type": "code",
   "execution_count": 52,
   "metadata": {},
   "outputs": [],
   "source": [
    "model.save_weights(\"sen_weight_blstm.h5\")"
   ]
  },
  {
   "cell_type": "code",
   "execution_count": 53,
   "metadata": {},
   "outputs": [],
   "source": [
    "model.save_weights(\"sen_weight_blstm.tf\")"
   ]
  },
  {
   "cell_type": "markdown",
   "metadata": {},
   "source": [
    "## More Exploration"
   ]
  },
  {
   "cell_type": "code",
   "execution_count": 54,
   "metadata": {},
   "outputs": [],
   "source": [
    "new_model = tf.keras.models.load_model(\"sen_model_blstm.tf\")"
   ]
  },
  {
   "cell_type": "code",
   "execution_count": 55,
   "metadata": {},
   "outputs": [
    {
     "name": "stdout",
     "output_type": "stream",
     "text": [
      "Model: \"sequential\"\n",
      "_________________________________________________________________\n",
      " Layer (type)                Output Shape              Param #   \n",
      "=================================================================\n",
      " embedding (Embedding)       (None, 83, 128)           28644736  \n",
      "                                                                 \n",
      " bidirectional (Bidirectiona  (None, 128)              98816     \n",
      " l)                                                              \n",
      "                                                                 \n",
      " dense (Dense)               (None, 64)                8256      \n",
      "                                                                 \n",
      " dropout (Dropout)           (None, 64)                0         \n",
      "                                                                 \n",
      " dense_1 (Dense)             (None, 3)                 195       \n",
      "                                                                 \n",
      "=================================================================\n",
      "Total params: 28,752,003\n",
      "Trainable params: 107,267\n",
      "Non-trainable params: 28,644,736\n",
      "_________________________________________________________________\n"
     ]
    }
   ],
   "source": [
    "new_model.summary()"
   ]
  },
  {
   "cell_type": "code",
   "execution_count": 56,
   "metadata": {},
   "outputs": [],
   "source": [
    "new_model.load_weights(\"sen_weight_blstm.h5\")"
   ]
  },
  {
   "cell_type": "code",
   "execution_count": 57,
   "metadata": {},
   "outputs": [
    {
     "data": {
      "text/plain": [
       "array(['uncertainty', 'positive', 'positive', 'positive', 'negative',\n",
       "       'negative', 'positive', 'uncertainty', 'negative', 'positive',\n",
       "       'uncertainty', 'uncertainty', 'negative', 'positive',\n",
       "       'uncertainty', 'positive', 'positive', 'uncertainty',\n",
       "       'uncertainty', 'uncertainty', 'negative', 'negative', 'negative',\n",
       "       'negative', 'negative', 'negative', 'uncertainty', 'uncertainty',\n",
       "       'uncertainty', 'uncertainty', 'positive', 'uncertainty',\n",
       "       'positive', 'positive', 'uncertainty', 'negative', 'positive',\n",
       "       'negative', 'negative', 'negative', 'negative', 'positive',\n",
       "       'negative', 'uncertainty', 'negative', 'positive', 'positive',\n",
       "       'negative', 'positive', 'negative', 'negative', 'positive',\n",
       "       'negative', 'uncertainty', 'negative', 'negative', 'negative',\n",
       "       'uncertainty', 'negative', 'positive', 'uncertainty', 'negative',\n",
       "       'negative', 'negative', 'positive', 'positive', 'uncertainty',\n",
       "       'uncertainty', 'negative', 'positive', 'positive', 'positive',\n",
       "       'positive', 'uncertainty', 'negative', 'negative', 'positive',\n",
       "       'positive', 'negative', 'negative', 'negative', 'positive',\n",
       "       'negative', 'positive', 'uncertainty', 'negative', 'positive',\n",
       "       'uncertainty', 'uncertainty', 'negative', 'positive', 'positive',\n",
       "       'uncertainty', 'positive', 'negative', 'uncertainty',\n",
       "       'uncertainty', 'negative', 'negative', 'positive'], dtype=object)"
      ]
     },
     "execution_count": 57,
     "metadata": {},
     "output_type": "execute_result"
    }
   ],
   "source": [
    "random_data = df.sample(n = 100) \n",
    "random_text = random_data['Text'].values \n",
    "true_test = random_data['Label'].values\n",
    "\n",
    "testing_set = pad_sequences(tokenizer.texts_to_sequences(random_text) , maxlen=max_length , padding = 'post')\n",
    "\n",
    "\n",
    "true_test"
   ]
  },
  {
   "cell_type": "code",
   "execution_count": 58,
   "metadata": {},
   "outputs": [
    {
     "name": "stdout",
     "output_type": "stream",
     "text": [
      "4/4 [==============================] - 1s 10ms/step\n"
     ]
    }
   ],
   "source": [
    "prediction = new_model.predict(testing_set).round() "
   ]
  },
  {
   "cell_type": "code",
   "execution_count": 59,
   "metadata": {},
   "outputs": [],
   "source": [
    "array_from_tuple = np.array(prediction)\n",
    "mappings = {\n",
    "    tuple([1., 0., 0.]): 'negative',\n",
    "    tuple([0., 1., 0.]): 'positive',\n",
    "    tuple([0., 0., 1.]): 'uncertainty'\n",
    "    # Add more mappings as needed\n",
    "}"
   ]
  },
  {
   "cell_type": "code",
   "execution_count": 60,
   "metadata": {},
   "outputs": [
    {
     "name": "stdout",
     "output_type": "stream",
     "text": [
      "['uncertainty', 'positive', 'positive', 'positive', 'negative', 'negative', 'positive', 'negative', 'positive', 'positive', 'uncertainty', 'uncertainty', 'negative', 'positive', 'uncertainty', 'positive', 'positive', 'uncertainty', 'uncertainty', 'uncertainty', 'negative', 'positive', 'negative', 'uncertainty', 'negative', 'negative', 'uncertainty', 'uncertainty', 'uncertainty', 'uncertainty', 'positive', 'uncertainty', 'positive', 'negative', 'uncertainty', 'negative', 'positive', 'negative', 'negative', 'negative', 'negative', 'positive', 'negative', 'uncertainty', 'negative', 'positive', 'positive', 'negative', 'positive', 'negative', 'negative', 'positive', 'negative', 'uncertainty', 'negative', 'negative', 'negative', 'uncertainty', 'negative', 'positive', 'uncertainty', 'negative', 'negative', 'negative', 'positive', 'positive', 'uncertainty', 'uncertainty', 'positive', 'positive', 'positive', 'positive', 'positive', 'uncertainty', 'negative', 'negative', 'positive', 'positive', 'negative', 'negative', 'negative', 'positive', 'negative', 'positive', 'uncertainty', 'negative', 'positive', 'uncertainty', 'uncertainty', 'negative', 'positive', 'positive', 'uncertainty', 'positive', 'negative', 'uncertainty', 'uncertainty', 'negative', 'negative', 'positive']\n"
     ]
    }
   ],
   "source": [
    "mapped_labels = []\n",
    "for row in array_from_tuple:\n",
    "    for subarray, label in mappings.items():\n",
    "        if np.array_equal(row, subarray):\n",
    "            mapped_labels.append(label)\n",
    "            break\n",
    "    else:\n",
    "        # If no match is found, you can handle it as needed\n",
    "        mapped_labels.append('Unknown')\n",
    "\n",
    "# Print the resulting mapped labels\n",
    "print(mapped_labels)"
   ]
  },
  {
   "cell_type": "code",
   "execution_count": 61,
   "metadata": {},
   "outputs": [],
   "source": [
    "cm = confusion_matrix(true_test, mapped_labels)"
   ]
  },
  {
   "cell_type": "code",
   "execution_count": 62,
   "metadata": {},
   "outputs": [
    {
     "data": {
      "image/png": "[encoded data removed]",
      "text/plain": [
       "<Figure size 800x600 with 2 Axes>"
      ]
     },
     "metadata": {},
     "output_type": "display_data"
    }
   ],
   "source": [
    "plt.figure(figsize=(8, 6))\n",
    "sns.heatmap(cm, annot=True, fmt=\"d\", cmap=\"Blues\")\n",
    "plt.xlabel(\"Predicted Labels\")\n",
    "plt.ylabel(\"True Labels\")\n",
    "plt.title(\"Confusion Matrix\")\n",
    "plt.show()"
   ]
  },
  {
   "cell_type": "code",
   "execution_count": 64,
   "metadata": {},
   "outputs": [
    {
     "name": "stdout",
     "output_type": "stream",
     "text": [
      "1/1 [==============================] - 0s 21ms/step\n"
     ]
    },
    {
     "name": "stderr",
     "output_type": "stream",
     "text": [
      "100%|██████████| 3/3 [00:00<?, ?it/s]"
     ]
    },
    {
     "name": "stdout",
     "output_type": "stream",
     "text": [
      "The original text : it s very possible that i just tried to write the past tense of  seek  as  suck  then couldn t figure out why it looked so wrong   can neither confirm nor deny but it may have happened\n",
      "\n",
      "The original label : uncertainty\n",
      "\n",
      "The prediction is : uncertainty\n",
      "\n",
      "The original text :   yes  indeed  while its already possible to deport such individuals the new terrorist law will make it easier  there are other improvements as well and that this will be a comprehensive law \n",
      "\n",
      "The original label : positive\n",
      "\n",
      "The prediction is : positive\n",
      "\n",
      "The original text :  good morning \n",
      "\n",
      "The original label : positive\n",
      "\n",
      "The prediction is : positive\n",
      "\n"
     ]
    },
    {
     "name": "stderr",
     "output_type": "stream",
     "text": [
      "\n"
     ]
    }
   ],
   "source": [
    "def make_predictions(row) : \n",
    "    random_data = row.sample(n = 3) \n",
    "    random_text = random_data['Text'].values \n",
    "    y_test = random_data['Label'].values\n",
    "    \n",
    "    x_test = pad_sequences(tokenizer.texts_to_sequences(random_text) , maxlen=max_length , padding = 'post')\n",
    "    \n",
    "    test_preds = new_model.predict(x_test).round() \n",
    "    \n",
    "    for i in tqdm(range(3)) : \n",
    "        print(f\"The original text : {random_text[i]}\\n\")\n",
    "        print(f\"The original label : {y_test[i]}\\n\")\n",
    "        print(f\"The prediction is : {getlabel(test_preds[i].argmax())}\\n\")\n",
    "        \n",
    "make_predictions(df)"
   ]
  },
  {
   "cell_type": "code",
   "execution_count": 65,
   "metadata": {},
   "outputs": [
    {
     "data": {
      "text/plain": [
       "<matplotlib.legend.Legend at 0x2437dba0760>"
      ]
     },
     "execution_count": 65,
     "metadata": {},
     "output_type": "execute_result"
    },
    {
     "data": {
      "image/png": "[encoded data removed]",
      "text/plain": [
       "<Figure size 640x480 with 1 Axes>"
      ]
     },
     "metadata": {},
     "output_type": "display_data"
    }
   ],
   "source": [
    "import matplotlib.pyplot as plt\n",
    "plt.plot(history.history['loss'],label= 'train')\n",
    "plt.plot(history.history['val_loss'],label= 'test')\n",
    "plt.legend()"
   ]
  },
  {
   "cell_type": "code",
   "execution_count": null,
   "metadata": {},
   "outputs": [],
   "source": [
    "\n",
    "plt.plot(history.history['accuary'],label= 'train')\n",
    "plt.plot(history.history['val_loss'],label= 'test')\n",
    "plt.legend()"
   ]
  },
  {
   "cell_type": "code",
   "execution_count": 72,
   "metadata": {},
   "outputs": [],
   "source": [
    "num_classes = len(labelencoder.classes_)"
   ]
  },
  {
   "cell_type": "code",
   "execution_count": 71,
   "metadata": {},
   "outputs": [
    {
     "data": {
      "text/plain": [
       "array(['uncertainty', 'positive', 'positive', 'positive', 'negative',\n",
       "       'negative', 'positive', 'uncertainty', 'negative', 'positive',\n",
       "       'uncertainty', 'uncertainty', 'negative', 'positive',\n",
       "       'uncertainty', 'positive', 'positive', 'uncertainty',\n",
       "       'uncertainty', 'uncertainty', 'negative', 'negative', 'negative',\n",
       "       'negative', 'negative', 'negative', 'uncertainty', 'uncertainty',\n",
       "       'uncertainty', 'uncertainty', 'positive', 'uncertainty',\n",
       "       'positive', 'positive', 'uncertainty', 'negative', 'positive',\n",
       "       'negative', 'negative', 'negative', 'negative', 'positive',\n",
       "       'negative', 'uncertainty', 'negative', 'positive', 'positive',\n",
       "       'negative', 'positive', 'negative', 'negative', 'positive',\n",
       "       'negative', 'uncertainty', 'negative', 'negative', 'negative',\n",
       "       'uncertainty', 'negative', 'positive', 'uncertainty', 'negative',\n",
       "       'negative', 'negative', 'positive', 'positive', 'uncertainty',\n",
       "       'uncertainty', 'negative', 'positive', 'positive', 'positive',\n",
       "       'positive', 'uncertainty', 'negative', 'negative', 'positive',\n",
       "       'positive', 'negative', 'negative', 'negative', 'positive',\n",
       "       'negative', 'positive', 'uncertainty', 'negative', 'positive',\n",
       "       'uncertainty', 'uncertainty', 'negative', 'positive', 'positive',\n",
       "       'uncertainty', 'positive', 'negative', 'uncertainty',\n",
       "       'uncertainty', 'negative', 'negative', 'positive'], dtype=object)"
      ]
     },
     "execution_count": 71,
     "metadata": {},
     "output_type": "execute_result"
    }
   ],
   "source": [
    "true_test"
   ]
  },
  {
   "cell_type": "code",
   "execution_count": 69,
   "metadata": {},
   "outputs": [],
   "source": [
    "y_pred_prob = array_from_tuple"
   ]
  },
  {
   "cell_type": "code",
   "execution_count": 75,
   "metadata": {},
   "outputs": [
    {
     "data": {
      "text/plain": [
       "array([[0., 0., 1.],\n",
       "       [0., 1., 0.],\n",
       "       [0., 1., 0.],\n",
       "       [0., 1., 0.],\n",
       "       [1., 0., 0.],\n",
       "       [1., 0., 0.],\n",
       "       [0., 1., 0.],\n",
       "       [1., 0., 0.],\n",
       "       [0., 1., 0.],\n",
       "       [0., 1., 0.],\n",
       "       [0., 0., 1.],\n",
       "       [0., 0., 1.],\n",
       "       [1., 0., 0.],\n",
       "       [0., 1., 0.],\n",
       "       [0., 0., 1.],\n",
       "       [0., 1., 0.],\n",
       "       [0., 1., 0.],\n",
       "       [0., 0., 1.],\n",
       "       [0., 0., 1.],\n",
       "       [0., 0., 1.],\n",
       "       [1., 0., 0.],\n",
       "       [0., 1., 0.],\n",
       "       [1., 0., 0.],\n",
       "       [0., 0., 1.],\n",
       "       [1., 0., 0.],\n",
       "       [1., 0., 0.],\n",
       "       [0., 0., 1.],\n",
       "       [0., 0., 1.],\n",
       "       [0., 0., 1.],\n",
       "       [0., 0., 1.],\n",
       "       [0., 1., 0.],\n",
       "       [0., 0., 1.],\n",
       "       [0., 1., 0.],\n",
       "       [1., 0., 0.],\n",
       "       [0., 0., 1.],\n",
       "       [1., 0., 0.],\n",
       "       [0., 1., 0.],\n",
       "       [1., 0., 0.],\n",
       "       [1., 0., 0.],\n",
       "       [1., 0., 0.],\n",
       "       [1., 0., 0.],\n",
       "       [0., 1., 0.],\n",
       "       [1., 0., 0.],\n",
       "       [0., 0., 1.],\n",
       "       [1., 0., 0.],\n",
       "       [0., 1., 0.],\n",
       "       [0., 1., 0.],\n",
       "       [1., 0., 0.],\n",
       "       [0., 1., 0.],\n",
       "       [1., 0., 0.],\n",
       "       [1., 0., 0.],\n",
       "       [0., 1., 0.],\n",
       "       [1., 0., 0.],\n",
       "       [0., 0., 1.],\n",
       "       [1., 0., 0.],\n",
       "       [1., 0., 0.],\n",
       "       [1., 0., 0.],\n",
       "       [0., 0., 1.],\n",
       "       [1., 0., 0.],\n",
       "       [0., 1., 0.],\n",
       "       [0., 0., 1.],\n",
       "       [1., 0., 0.],\n",
       "       [1., 0., 0.],\n",
       "       [1., 0., 0.],\n",
       "       [0., 1., 0.],\n",
       "       [0., 1., 0.],\n",
       "       [0., 0., 1.],\n",
       "       [0., 0., 1.],\n",
       "       [0., 1., 0.],\n",
       "       [0., 1., 0.],\n",
       "       [0., 1., 0.],\n",
       "       [0., 1., 0.],\n",
       "       [0., 1., 0.],\n",
       "       [0., 0., 1.],\n",
       "       [1., 0., 0.],\n",
       "       [1., 0., 0.],\n",
       "       [0., 1., 0.],\n",
       "       [0., 1., 0.],\n",
       "       [1., 0., 0.],\n",
       "       [1., 0., 0.],\n",
       "       [1., 0., 0.],\n",
       "       [0., 1., 0.],\n",
       "       [1., 0., 0.],\n",
       "       [0., 1., 0.],\n",
       "       [0., 0., 1.],\n",
       "       [1., 0., 0.],\n",
       "       [0., 1., 0.],\n",
       "       [0., 0., 1.],\n",
       "       [0., 0., 1.],\n",
       "       [1., 0., 0.],\n",
       "       [0., 1., 0.],\n",
       "       [0., 1., 0.],\n",
       "       [0., 0., 1.],\n",
       "       [0., 1., 0.],\n",
       "       [1., 0., 0.],\n",
       "       [0., 0., 1.],\n",
       "       [0., 0., 1.],\n",
       "       [1., 0., 0.],\n",
       "       [1., 0., 0.],\n",
       "       [0., 1., 0.]], dtype=float32)"
      ]
     },
     "execution_count": 75,
     "metadata": {},
     "output_type": "execute_result"
    }
   ],
   "source": [
    "y_pred_prob"
   ]
  },
  {
   "cell_type": "code",
   "execution_count": 81,
   "metadata": {},
   "outputs": [],
   "source": [
    "label_binarizer = LabelBinarizer()\n",
    "true_test_bin = label_binarizer.fit_transform(true_test)"
   ]
  },
  {
   "cell_type": "code",
   "execution_count": 82,
   "metadata": {},
   "outputs": [],
   "source": [
    "fpr = dict()\n",
    "tpr = dict()\n",
    "roc_auc = dict()"
   ]
  },
  {
   "cell_type": "code",
   "execution_count": 84,
   "metadata": {},
   "outputs": [
    {
     "data": {
      "image/png": "[encoded data removed]",
      "text/plain": [
       "<Figure size 1000x600 with 1 Axes>"
      ]
     },
     "metadata": {},
     "output_type": "display_data"
    }
   ],
   "source": [
    "\n",
    "for i in range(num_classes):\n",
    "    fpr[i], tpr[i], _ = roc_curve(true_test_bin[:, i], y_pred_prob[:, i])\n",
    "    roc_auc[i] = auc(fpr[i], tpr[i])\n",
    "\n",
    "# Calculate micro-average ROC AUC\n",
    "fpr_micro, tpr_micro, _ = roc_curve(true_test_bin.ravel(), y_pred_prob.ravel())\n",
    "roc_auc_micro = auc(fpr_micro, tpr_micro)\n",
    "plt.figure(figsize=(10, 6))\n",
    "for i in range(num_classes):\n",
    "    plt.plot(fpr[i], tpr[i], label=f'Class {labelencoder.classes_[i]} (AUC = {roc_auc[i]:.2f})')\n",
    "\n",
    "plt.plot(fpr_micro, tpr_micro, label=f'Micro-Average (AUC = {roc_auc_micro:.2f})', linestyle='--', color='black')\n",
    "plt.plot([0, 1], [0, 1], 'k--', label='Random')\n",
    "plt.xlabel('False Positive Rate')\n",
    "plt.ylabel('True Positive Rate')\n",
    "plt.title('ROC Curve for Multi-Class Classification')\n",
    "plt.legend(loc='lower right')\n",
    "plt.show()"
   ]
  },
  {
   "cell_type": "markdown",
   "metadata": {},
   "source": [
    "## Area Under the Curve (AUC) in Multi-Class\n",
    "\n",
    "AUC is a scalar metric derived from the ROC curve, summarizing the model's overall performance. In the context of multi-class classification, the AUC is often calculated using the micro-average or macro-average:\n",
    "\n",
    "### Micro-Average ROC AUC\n",
    "\n",
    "- The micro-average aggregates the contributions of all classes, treating each sample-class pair equally. It is suitable for imbalanced datasets.\n",
    "\n",
    "### Macro-Average ROC AUC\n",
    "\n",
    "- The macro-average calculates the ROC AUC for each class independently and then averages the results. It gives equal weight to each class, providing insights into the model's performance across diverse classes.\n",
    "\n",
    "## Interpretation\n",
    "- AUC values range from 0 to 1, where a higher value indicates better discrimination between classes.\n",
    "- An AUC of 0.5 suggests random performance, while an AUC of 1.0 indicates perfect discrimination.\n"
   ]
  },
  {
   "cell_type": "markdown",
   "metadata": {},
   "source": [
    "## Reason Why we do not apply Batch Normalization\n",
    "\n",
    "- After that, we want to do one more rnn for batch normalization to see the difference\n",
    "\n",
    "- Since we have a good accuracy, we believe batch normalization won't have better accuracy.\n",
    "\n",
    "- Also if we want to apply batch normalization, we have to remove the dropout layer, because they have similar role\n",
    "\n",
    "- By searching article about batch normalization, we have known that batch normalization won't improve sentiment analysis. Ref:https://cs224d.stanford.edu/reports/MargaritSubramaniam.pdf"
   ]
  },
  {
   "cell_type": "code",
   "execution_count": null,
   "metadata": {},
   "outputs": [],
   "source": []
  }
 ],
 "metadata": {
  "kernelspec": {
   "display_name": "Python 3",
   "language": "python",
   "name": "python3"
  },
  "language_info": {
   "codemirror_mode": {
    "name": "ipython",
    "version": 3
   },
   "file_extension": ".py",
   "mimetype": "text/x-python",
   "name": "python",
   "nbconvert_exporter": "python",
   "pygments_lexer": "ipython3",
   "version": "3.10.7"
  }
 },
 "nbformat": 4,
 "nbformat_minor": 2
}
